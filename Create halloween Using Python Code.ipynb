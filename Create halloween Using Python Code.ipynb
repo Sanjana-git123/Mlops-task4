{
 "cells": [
  {
   "cell_type": "code",
   "execution_count": 2,
   "metadata": {},
   "outputs": [],
   "source": [
    "import turtle \n",
    "from turtle import *\n",
    "t = turtle.Turtle()\n",
    "t.shape(\"turtle\")\n",
    "turtle.bgcolor(\"black\")"
   ]
  },
  {
   "cell_type": "code",
   "execution_count": 3,
   "metadata": {},
   "outputs": [],
   "source": [
    "def make_triangle(x, y, color):\n",
    "    t.penup()\n",
    "    t.goto(x,y)\n",
    "    t.begin_fill()\n",
    "    t.color(color)\n",
    "    t.pendown()\n",
    "    for count in range(3):\n",
    "        t.forward(50)\n",
    "        t.left(120)\n",
    "    t.end_fill()"
   ]
  },
  {
   "cell_type": "code",
   "execution_count": 4,
   "metadata": {},
   "outputs": [],
   "source": [
    "def make_square(x, y, color):\n",
    "    t.penup()\n",
    "    t.goto(x,y)\n",
    "    t.begin_fill()\n",
    "    t.color(color)\n",
    "    t.pendown()\n",
    "    for count2 in range(3):\n",
    "        t.forward(50)\n",
    "        t.left(90)\n",
    "    t.end_fill()\n",
    "        "
   ]
  },
  {
   "cell_type": "code",
   "execution_count": 5,
   "metadata": {},
   "outputs": [],
   "source": [
    "# The Pumpkin \n",
    "t.penup()\n",
    "t.goto(0,-150) \n",
    "t.color('#ff6600') \n",
    "t.begin_fill() \n",
    "t.circle(150) \n",
    "t.end_fill() \n",
    "t.left(180)"
   ]
  },
  {
   "cell_type": "code",
   "execution_count": 6,
   "metadata": {},
   "outputs": [],
   "source": [
    "# Teeth  \n",
    "make_triangle(-35, -20, '#000000')\n",
    "make_triangle(0, -20, '#000000')\n",
    "make_triangle(35, -20, '#000000')\n",
    "make_triangle(70, -20, '#000000')\n",
    "t.left(180)"
   ]
  },
  {
   "cell_type": "code",
   "execution_count": null,
   "metadata": {},
   "outputs": [],
   "source": [
    "# The Eyes\n",
    "make_triangle(-70, 50, '#000000')\n",
    "make_triangle(0, 50, '#000000')\n",
    "\n",
    "# The Stump\n",
    "make_square(-20, 125, '#006600')\n",
    "\n",
    "# Happy Halloween!\n",
    "t.penup()\n",
    "t.goto(-100,-185)\n",
    "t.write(\"Booooo!!!!!\", font=(\"Arial\", 36, \"normal\"))\n",
    "t.goto(-120,-185)\n",
    "t.left(180)\n",
    "turtle.done()"
   ]
  },
  {
   "cell_type": "code",
   "execution_count": null,
   "metadata": {},
   "outputs": [],
   "source": []
  },
  {
   "cell_type": "code",
   "execution_count": null,
   "metadata": {},
   "outputs": [],
   "source": [
    "\n"
   ]
  },
  {
   "cell_type": "code",
   "execution_count": null,
   "metadata": {},
   "outputs": [],
   "source": []
  },
  {
   "cell_type": "code",
   "execution_count": null,
   "metadata": {},
   "outputs": [],
   "source": []
  },
  {
   "cell_type": "code",
   "execution_count": null,
   "metadata": {},
   "outputs": [],
   "source": []
  },
  {
   "cell_type": "code",
   "execution_count": null,
   "metadata": {},
   "outputs": [],
   "source": []
  },
  {
   "cell_type": "code",
   "execution_count": null,
   "metadata": {},
   "outputs": [],
   "source": []
  },
  {
   "cell_type": "code",
   "execution_count": null,
   "metadata": {},
   "outputs": [],
   "source": []
  },
  {
   "cell_type": "code",
   "execution_count": null,
   "metadata": {},
   "outputs": [],
   "source": []
  },
  {
   "cell_type": "code",
   "execution_count": null,
   "metadata": {},
   "outputs": [],
   "source": []
  }
 ],
 "metadata": {
  "kernelspec": {
   "display_name": "Python 3",
   "language": "python",
   "name": "python3"
  },
  "language_info": {
   "codemirror_mode": {
    "name": "ipython",
    "version": 3
   },
   "file_extension": ".py",
   "mimetype": "text/x-python",
   "name": "python",
   "nbconvert_exporter": "python",
   "pygments_lexer": "ipython3",
   "version": "3.8.3"
  }
 },
 "nbformat": 4,
 "nbformat_minor": 4
}
